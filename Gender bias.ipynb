{
  "cells": [
    {
      "cell_type": "markdown",
      "metadata": {
        "id": "view-in-github",
        "colab_type": "text"
      },
      "source": [
        "<a href=\"https://colab.research.google.com/github/Yogendra-805/Finding-gender-bias-in-the-Hollywood-film-industry/blob/main/IDC409_MS19113_Project_01_.ipynb\" target=\"_parent\"><img src=\"https://colab.research.google.com/assets/colab-badge.svg\" alt=\"Open In Colab\"/></a>"
      ]
    },
    {
      "cell_type": "markdown",
      "metadata": {
        "id": "cB51BMBWIqMo"
      },
      "source": [
        "# Scrapping"
      ]
    },
    {
      "cell_type": "code",
      "execution_count": null,
      "metadata": {
        "id": "1Ni2DjLaIqMr"
      },
      "outputs": [],
      "source": [
        "# Import Libreries.\n",
        "import pandas as pd\n",
        "import numpy as np\n",
        "import requests\n",
        "from bs4 import BeautifulSoup\n",
        "\n",
        "# Create empty list to store data.\n",
        "movie = []\n",
        "year = []\n",
        "stars = []\n",
        "director = []\n",
        "gender = []\n",
        "\n",
        "\n",
        "for i in range(1,101):\n",
        "    url = \"https://www.imdb.com/list/ls057823854/?sort=list_order,asc&st_dt=&mode=detail&page=\"+str(i)\n",
        "    response = requests.get(url)\n",
        "    soup = BeautifulSoup(response.content, 'html.parser')\n",
        "    movie_data = soup.findAll('div', attrs = {'class': 'lister-item mode-detail'})\n",
        "    for store in movie_data:\n",
        "        try:\n",
        "            m_name = store.h3.a.text\n",
        "\n",
        "            year_of_release = store.h3.find(\"span\", class_ = 'lister-item-year text-muted unbold').text.replace('(','').replace(')','')\n",
        "\n",
        "            director_name =((store.findAll('p', class_=\"text-muted text-small\"))[1].a).text\n",
        "\n",
        "            star_names = (store.findAll('p', class_=\"text-muted text-small\")[1]).findAll('a')\n",
        "            for i in range(1,len(star_names)):\n",
        "                try:\n",
        "                    name = star_names[i].text\n",
        "                    stars.append(name)\n",
        "                    movie.append(m_name)\n",
        "                    year.append(year_of_release)\n",
        "                    director.append(director_name)\n",
        "\n",
        "                    url1 = str(\"https://www.imdb.com\")+star_names[i]['href']\n",
        "                    response1 = requests.get(url1)\n",
        "                    soup1 = BeautifulSoup(response1.content, 'html.parser')\n",
        "                    actor_data = ((soup1.findAll('div', class_ = 'infobar'))[0].findAll('span', class_ = 'itemprop'))\n",
        "\n",
        "                    gen = []\n",
        "                    for i in range(len(actor_data)):\n",
        "\n",
        "                        if (actor_data[i].text).replace('\\n', '') == 'Actor' :\n",
        "                            gender.append('M') \n",
        "                            gen.append('M')\n",
        "                        if (actor_data[i].text).replace('\\n', '') == 'Actress' :\n",
        "                            gender.append('F')\n",
        "                            gen.append(\"F\")\n",
        "                    if len(gen) == 0:\n",
        "                        gender.append('Na')\n",
        "                except IndexError:\n",
        "                    pass\n",
        "        except:\n",
        "            pass\n",
        "\n",
        "        \n",
        "movie_df = pd.DataFrame(list(zip(movie, year, director, stars, gender )), columns = [\"movie\", \"year\", 'director', \"stars\", \"gender\"])\n",
        "\n",
        "movie_df.to_csv('data.csv')"
      ]
    },
    {
      "cell_type": "markdown",
      "metadata": {
        "id": "etWS-kndIqMu"
      },
      "source": [
        "#  Analysis"
      ]
    },
    {
      "cell_type": "code",
      "execution_count": null,
      "metadata": {
        "id": "fK0LnlkcIqMv"
      },
      "outputs": [],
      "source": [
        "# import libraries.\n",
        "import pandas as pd\n",
        "import numpy as np\n",
        "import seaborn\n",
        "import matplotlib.pyplot as plt"
      ]
    },
    {
      "cell_type": "code",
      "execution_count": null,
      "metadata": {
        "id": "0mdgIbeEIqMv"
      },
      "outputs": [],
      "source": [
        "# read  the data.\n",
        "data = pd.read_csv(\"data.csv\")"
      ]
    },
    {
      "cell_type": "markdown",
      "metadata": {
        "id": "ESr6GiTIIqMv"
      },
      "source": [
        "## Data Cleaning "
      ]
    },
    {
      "cell_type": "code",
      "execution_count": null,
      "metadata": {
        "id": "Y0atvHOHIqMw"
      },
      "outputs": [],
      "source": [
        "# drop the rows with unknown gender.\n",
        "data.drop(data[data['gender'] == \"Na\"].index, inplace = True)"
      ]
    },
    {
      "cell_type": "code",
      "execution_count": null,
      "metadata": {
        "id": "FK7bGr4xIqMw"
      },
      "outputs": [],
      "source": [
        "# remove non numeric characters from year column.\n",
        "data[\"year\"] = data[\"year\"].str.replace(r'\\D', '', regex = True)"
      ]
    },
    {
      "cell_type": "code",
      "execution_count": null,
      "metadata": {
        "id": "lzoqHWcUIqMx"
      },
      "outputs": [],
      "source": [
        "# drop the empty rows.\n",
        "data.drop(data[data['year'] == \"\"].index, inplace = True)"
      ]
    },
    {
      "cell_type": "markdown",
      "metadata": {
        "id": "5rjilDWtIqMy"
      },
      "source": [
        "## Data Preprocessing "
      ]
    },
    {
      "cell_type": "code",
      "execution_count": null,
      "metadata": {
        "id": "o2i6n2_5IqMy",
        "outputId": "51e14d9a-f5e1-4f12-e396-9d0ffb301503"
      },
      "outputs": [
        {
          "data": {
            "text/html": [
              "<div>\n",
              "<style scoped>\n",
              "    .dataframe tbody tr th:only-of-type {\n",
              "        vertical-align: middle;\n",
              "    }\n",
              "\n",
              "    .dataframe tbody tr th {\n",
              "        vertical-align: top;\n",
              "    }\n",
              "\n",
              "    .dataframe thead th {\n",
              "        text-align: right;\n",
              "    }\n",
              "</style>\n",
              "<table border=\"1\" class=\"dataframe\">\n",
              "  <thead>\n",
              "    <tr style=\"text-align: right;\">\n",
              "      <th></th>\n",
              "      <th>stars</th>\n",
              "      <th>gender</th>\n",
              "    </tr>\n",
              "  </thead>\n",
              "  <tbody>\n",
              "    <tr>\n",
              "      <th>0</th>\n",
              "      <td>John Travolta</td>\n",
              "      <td>M</td>\n",
              "    </tr>\n",
              "    <tr>\n",
              "      <th>1</th>\n",
              "      <td>Uma Thurman</td>\n",
              "      <td>F</td>\n",
              "    </tr>\n",
              "    <tr>\n",
              "      <th>2</th>\n",
              "      <td>Samuel L. Jackson</td>\n",
              "      <td>M</td>\n",
              "    </tr>\n",
              "    <tr>\n",
              "      <th>3</th>\n",
              "      <td>Bruce Willis</td>\n",
              "      <td>M</td>\n",
              "    </tr>\n",
              "    <tr>\n",
              "      <th>4</th>\n",
              "      <td>Andrew Garfield</td>\n",
              "      <td>M</td>\n",
              "    </tr>\n",
              "    <tr>\n",
              "      <th>...</th>\n",
              "      <td>...</td>\n",
              "      <td>...</td>\n",
              "    </tr>\n",
              "    <tr>\n",
              "      <th>38452</th>\n",
              "      <td>Ryoko Seta</td>\n",
              "      <td>M</td>\n",
              "    </tr>\n",
              "    <tr>\n",
              "      <th>38456</th>\n",
              "      <td>Clark Sarullo</td>\n",
              "      <td>M</td>\n",
              "    </tr>\n",
              "    <tr>\n",
              "      <th>38459</th>\n",
              "      <td>Chiara Aurelia</td>\n",
              "      <td>M</td>\n",
              "    </tr>\n",
              "    <tr>\n",
              "      <th>38460</th>\n",
              "      <td>Carel Struycken</td>\n",
              "      <td>F</td>\n",
              "    </tr>\n",
              "    <tr>\n",
              "      <th>38465</th>\n",
              "      <td>Riccardo Scamarcio</td>\n",
              "      <td>F</td>\n",
              "    </tr>\n",
              "  </tbody>\n",
              "</table>\n",
              "<p>17368 rows × 2 columns</p>\n",
              "</div>"
            ],
            "text/plain": [
              "                    stars gender\n",
              "0           John Travolta      M\n",
              "1             Uma Thurman      F\n",
              "2       Samuel L. Jackson      M\n",
              "3            Bruce Willis      M\n",
              "4         Andrew Garfield      M\n",
              "...                   ...    ...\n",
              "38452          Ryoko Seta      M\n",
              "38456       Clark Sarullo      M\n",
              "38459      Chiara Aurelia      M\n",
              "38460     Carel Struycken      F\n",
              "38465  Riccardo Scamarcio      F\n",
              "\n",
              "[17368 rows x 2 columns]"
            ]
          },
          "execution_count": 6,
          "metadata": {},
          "output_type": "execute_result"
        }
      ],
      "source": [
        "#create a dataframe of just actors and their gender\n",
        "actor_gender_df = data[['stars','gender',]].copy()\n",
        "actor_gender_df = actor_gender_df.drop_duplicates()\n",
        "actor_gender_df"
      ]
    },
    {
      "cell_type": "code",
      "execution_count": null,
      "metadata": {
        "id": "dGNHx5JFIqMz"
      },
      "outputs": [],
      "source": [
        "gender_counts = actor_gender_df[\"gender\"].apply(pd.value_counts).count()"
      ]
    },
    {
      "cell_type": "code",
      "execution_count": null,
      "metadata": {
        "id": "L5KMKku5IqM0",
        "outputId": "a641c570-51c0-4f95-b972-8c5b11aad6a7"
      },
      "outputs": [
        {
          "data": {
            "text/plain": [
              "M    10530\n",
              "F     6838\n",
              "dtype: int64"
            ]
          },
          "execution_count": 8,
          "metadata": {},
          "output_type": "execute_result"
        }
      ],
      "source": [
        "gender_counts"
      ]
    },
    {
      "cell_type": "code",
      "execution_count": null,
      "metadata": {
        "id": "6aH5wxxNIqM0",
        "outputId": "4ed735ae-ef07-404c-8a07-0f0f7d0726e3"
      },
      "outputs": [
        {
          "data": {
            "image/png": "[encoded data removed]",
            "text/plain": [
              "<Figure size 432x288 with 1 Axes>"
            ]
          },
          "metadata": {},
          "output_type": "display_data"
        }
      ],
      "source": [
        "# Ploting\n",
        "palette_color = seaborn.color_palette('pastel')\n",
        "plt.pie(gender_counts, labels=[\"Male\", \"Female\"], colors = palette_color,\n",
        "        explode=[0,0.05], autopct='%.0f%%')\n",
        "plt.title(\"Gender Proportions in the Hollywood film industry\")\n",
        "#plt.savefig(\"file1.png\")\n",
        "plt.show()"
      ]
    },
    {
      "cell_type": "markdown",
      "metadata": {
        "id": "cSopfAYxIqM0"
      },
      "source": [
        "## Gender Proportions from 1964 to 2027"
      ]
    },
    {
      "cell_type": "code",
      "execution_count": null,
      "metadata": {
        "id": "8X2wPShaIqM1"
      },
      "outputs": [],
      "source": [
        "#create df of movie year and actor gender for each movie\n",
        "actor_year = data[['year','gender']].copy()"
      ]
    },
    {
      "cell_type": "code",
      "execution_count": null,
      "metadata": {
        "id": "psi_0xzeIqM1",
        "outputId": "2135ba26-eb12-409f-dc1d-aab1dbda153d"
      },
      "outputs": [
        {
          "data": {
            "text/html": [
              "<div>\n",
              "<style scoped>\n",
              "    .dataframe tbody tr th:only-of-type {\n",
              "        vertical-align: middle;\n",
              "    }\n",
              "\n",
              "    .dataframe tbody tr th {\n",
              "        vertical-align: top;\n",
              "    }\n",
              "\n",
              "    .dataframe thead th {\n",
              "        text-align: right;\n",
              "    }\n",
              "</style>\n",
              "<table border=\"1\" class=\"dataframe\">\n",
              "  <thead>\n",
              "    <tr style=\"text-align: right;\">\n",
              "      <th></th>\n",
              "      <th>year</th>\n",
              "      <th>gender</th>\n",
              "    </tr>\n",
              "  </thead>\n",
              "  <tbody>\n",
              "    <tr>\n",
              "      <th>0</th>\n",
              "      <td>1994</td>\n",
              "      <td>M</td>\n",
              "    </tr>\n",
              "    <tr>\n",
              "      <th>1</th>\n",
              "      <td>1994</td>\n",
              "      <td>F</td>\n",
              "    </tr>\n",
              "    <tr>\n",
              "      <th>2</th>\n",
              "      <td>1994</td>\n",
              "      <td>M</td>\n",
              "    </tr>\n",
              "    <tr>\n",
              "      <th>3</th>\n",
              "      <td>1994</td>\n",
              "      <td>M</td>\n",
              "    </tr>\n",
              "    <tr>\n",
              "      <th>4</th>\n",
              "      <td>2014</td>\n",
              "      <td>M</td>\n",
              "    </tr>\n",
              "  </tbody>\n",
              "</table>\n",
              "</div>"
            ],
            "text/plain": [
              "   year gender\n",
              "0  1994      M\n",
              "1  1994      F\n",
              "2  1994      M\n",
              "3  1994      M\n",
              "4  2014      M"
            ]
          },
          "execution_count": 46,
          "metadata": {},
          "output_type": "execute_result"
        }
      ],
      "source": [
        "actor_year.head()"
      ]
    },
    {
      "cell_type": "code",
      "execution_count": null,
      "metadata": {
        "id": "fUq_W-7KIqM1"
      },
      "outputs": [],
      "source": [
        "#group by year and gender\n",
        "act_gen_df = actor_year.groupby(['year', 'gender']).size().to_frame().unstack()"
      ]
    },
    {
      "cell_type": "code",
      "execution_count": null,
      "metadata": {
        "id": "qYPPmMT5IqM2"
      },
      "outputs": [],
      "source": [
        "#flattens column headers\n",
        "act_gen_df.columns = act_gen_df.columns.get_level_values(1)"
      ]
    },
    {
      "cell_type": "code",
      "execution_count": null,
      "metadata": {
        "id": "XQWsvPbHIqM2"
      },
      "outputs": [],
      "source": [
        "#creates total column\n",
        "act_gen_df[\"total\"] = act_gen_df.sum(axis=1)"
      ]
    },
    {
      "cell_type": "code",
      "execution_count": null,
      "metadata": {
        "id": "qhshXzOkIqM2"
      },
      "outputs": [],
      "source": [
        "#creates male percent column\n",
        "act_gen_df['male_percent'] = act_gen_df['M'] / act_gen_df['total']"
      ]
    },
    {
      "cell_type": "code",
      "execution_count": null,
      "metadata": {
        "id": "T46SP4CFIqM3"
      },
      "outputs": [],
      "source": [
        "#creates female percent column\n",
        "act_gen_df['female_percent'] = act_gen_df['F'] / act_gen_df['total']"
      ]
    },
    {
      "cell_type": "code",
      "execution_count": null,
      "metadata": {
        "id": "-STc1O0tIqM3",
        "outputId": "05caf6fe-dc76-4316-96e5-1a60f5131fab"
      },
      "outputs": [
        {
          "data": {
            "text/html": [
              "<div>\n",
              "<style scoped>\n",
              "    .dataframe tbody tr th:only-of-type {\n",
              "        vertical-align: middle;\n",
              "    }\n",
              "\n",
              "    .dataframe tbody tr th {\n",
              "        vertical-align: top;\n",
              "    }\n",
              "\n",
              "    .dataframe thead th {\n",
              "        text-align: right;\n",
              "    }\n",
              "</style>\n",
              "<table border=\"1\" class=\"dataframe\">\n",
              "  <thead>\n",
              "    <tr style=\"text-align: right;\">\n",
              "      <th>gender</th>\n",
              "      <th>F</th>\n",
              "      <th>M</th>\n",
              "      <th>total</th>\n",
              "      <th>male_percent</th>\n",
              "      <th>female_percent</th>\n",
              "    </tr>\n",
              "    <tr>\n",
              "      <th>year</th>\n",
              "      <th></th>\n",
              "      <th></th>\n",
              "      <th></th>\n",
              "      <th></th>\n",
              "      <th></th>\n",
              "    </tr>\n",
              "  </thead>\n",
              "  <tbody>\n",
              "    <tr>\n",
              "      <th>1964</th>\n",
              "      <td>1.0</td>\n",
              "      <td>3.0</td>\n",
              "      <td>4.0</td>\n",
              "      <td>0.750000</td>\n",
              "      <td>0.250000</td>\n",
              "    </tr>\n",
              "    <tr>\n",
              "      <th>1967</th>\n",
              "      <td>NaN</td>\n",
              "      <td>4.0</td>\n",
              "      <td>4.0</td>\n",
              "      <td>1.000000</td>\n",
              "      <td>NaN</td>\n",
              "    </tr>\n",
              "    <tr>\n",
              "      <th>1970</th>\n",
              "      <td>18.0</td>\n",
              "      <td>21.0</td>\n",
              "      <td>39.0</td>\n",
              "      <td>0.538462</td>\n",
              "      <td>0.461538</td>\n",
              "    </tr>\n",
              "    <tr>\n",
              "      <th>1971</th>\n",
              "      <td>6.0</td>\n",
              "      <td>12.0</td>\n",
              "      <td>18.0</td>\n",
              "      <td>0.666667</td>\n",
              "      <td>0.333333</td>\n",
              "    </tr>\n",
              "    <tr>\n",
              "      <th>1972</th>\n",
              "      <td>93.0</td>\n",
              "      <td>154.0</td>\n",
              "      <td>247.0</td>\n",
              "      <td>0.623482</td>\n",
              "      <td>0.376518</td>\n",
              "    </tr>\n",
              "  </tbody>\n",
              "</table>\n",
              "</div>"
            ],
            "text/plain": [
              "gender     F      M  total  male_percent  female_percent\n",
              "year                                                    \n",
              "1964     1.0    3.0    4.0      0.750000        0.250000\n",
              "1967     NaN    4.0    4.0      1.000000             NaN\n",
              "1970    18.0   21.0   39.0      0.538462        0.461538\n",
              "1971     6.0   12.0   18.0      0.666667        0.333333\n",
              "1972    93.0  154.0  247.0      0.623482        0.376518"
            ]
          },
          "execution_count": 45,
          "metadata": {},
          "output_type": "execute_result"
        }
      ],
      "source": [
        "act_gen_df.head()"
      ]
    },
    {
      "cell_type": "code",
      "execution_count": null,
      "metadata": {
        "id": "_gisALpuIqM3"
      },
      "outputs": [],
      "source": [
        "#creates new df without female, male, total columns to make it easier to plot\n",
        "act_gen_plot = act_gen_df.drop(columns=['F', 'M', 'total'])"
      ]
    },
    {
      "cell_type": "code",
      "execution_count": null,
      "metadata": {
        "id": "xkg0m8-uIqM3"
      },
      "outputs": [],
      "source": [
        "#renames columns\n",
        "act_gen_plot.rename(columns = {'female_percent':'female', 'male_percent':'male'}, inplace=True)"
      ]
    },
    {
      "cell_type": "code",
      "execution_count": null,
      "metadata": {
        "id": "t-uFs1_uIqM4"
      },
      "outputs": [],
      "source": [
        "#convert decimals to percent\n",
        "act_gen_plot = act_gen_plot * 100"
      ]
    },
    {
      "cell_type": "code",
      "execution_count": null,
      "metadata": {
        "id": "VF7hzEaUIqM4"
      },
      "outputs": [],
      "source": []
    },
    {
      "cell_type": "code",
      "execution_count": null,
      "metadata": {
        "id": "YTQicSWBIqM4",
        "outputId": "ce749206-bee7-4ad6-b2b1-d45b620c250b"
      },
      "outputs": [
        {
          "data": {
            "image/png": "[encoded data removed]",
            "text/plain": [
              "<Figure size 432x288 with 1 Axes>"
            ]
          },
          "metadata": {
            "needs_background": "light"
          },
          "output_type": "display_data"
        },
        {
          "data": {
            "text/plain": [
              "<Figure size 432x288 with 0 Axes>"
            ]
          },
          "metadata": {},
          "output_type": "display_data"
        }
      ],
      "source": [
        "#actor gender each year plot\n",
        "act_gen_plot.plot.bar(stacked=True, color = palette_color)\n",
        "plt.ylabel('Percent')\n",
        "plt.title('Actor Gender Proportions from 1964 to 2027')\n",
        "plt.show()\n",
        "#plt.savefig(\"file2.png\")"
      ]
    },
    {
      "cell_type": "code",
      "execution_count": null,
      "metadata": {
        "id": "kHCQktBkIqM5"
      },
      "outputs": [],
      "source": []
    }
  ],
  "metadata": {
    "kernelspec": {
      "display_name": "Python 3 (ipykernel)",
      "language": "python",
      "name": "python3"
    },
    "language_info": {
      "codemirror_mode": {
        "name": "ipython",
        "version": 3
      },
      "file_extension": ".py",
      "mimetype": "text/x-python",
      "name": "python",
      "nbconvert_exporter": "python",
      "pygments_lexer": "ipython3",
      "version": "3.10.4"
    },
    "colab": {
      "provenance": [],
      "include_colab_link": true
    }
  },
  "nbformat": 4,
  "nbformat_minor": 0
}
